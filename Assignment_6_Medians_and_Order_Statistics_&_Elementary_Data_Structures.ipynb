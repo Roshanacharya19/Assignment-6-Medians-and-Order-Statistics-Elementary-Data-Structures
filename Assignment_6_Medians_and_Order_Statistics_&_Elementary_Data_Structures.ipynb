{
  "cells": [
    {
      "cell_type": "markdown",
      "id": "d166ab43",
      "metadata": {
        "id": "d166ab43"
      },
      "source": [
        "# Part 1: Selection Algorithms (Medians and Order Statistics)"
      ]
    },
    {
      "cell_type": "markdown",
      "id": "446f1a22",
      "metadata": {
        "id": "446f1a22"
      },
      "source": [
        "\n",
        "This notebook implements two selection algorithms to find the k-th smallest element in an unsorted array:\n",
        "\n",
        "1. **Deterministic Algorithm (Median of Medians)**: Guarantees O(n) worst-case time complexity.\n",
        "2. **Randomized Algorithm (Randomized Quickselect)**: Achieves O(n) expected time complexity.\n",
        "\n",
        "We will also perform a performance analysis of both algorithms using different array distributions (random, sorted, reverse-sorted).\n",
        "    "
      ]
    },
    {
      "cell_type": "markdown",
      "id": "82fc910d",
      "metadata": {
        "id": "82fc910d"
      },
      "source": [
        "## Step 1: Implementing the Deterministic Algorithm (Median of Medians)"
      ]
    },
    {
      "cell_type": "markdown",
      "id": "3943b290",
      "metadata": {
        "id": "3943b290"
      },
      "source": [
        "\n",
        "### Explanation:\n",
        "The **Median of Medians** algorithm selects the k-th smallest element by first finding a \"good\" pivot (median of medians), which guarantees linear time selection.\n",
        "\n",
        "The algorithm works as follows:\n",
        "1. **Divide the array into groups of 5** (or fewer for the last group).\n",
        "2. **Sort each group** and find the median of each group.\n",
        "3. **Recursively find the median of medians** from the list of medians.\n",
        "4. Use this median as a pivot to partition the array and select the k-th smallest element recursively.\n",
        "\n",
        "The median of medians ensures that even in the worst case, the pivot is a good one, thus guaranteeing O(n) time complexity.\n",
        "\n",
        "### Code Implementation:\n"
      ]
    },
    {
      "cell_type": "code",
      "execution_count": null,
      "id": "451a617d",
      "metadata": {
        "id": "451a617d"
      },
      "outputs": [],
      "source": [
        "def median_of_medians(arr):\n",
        "    # Step 1: Divide the array into groups of 5\n",
        "    groups = [arr[i:i+5] for i in range(0, len(arr), 5)]\n",
        "\n",
        "    # Step 2: Sort each group and find the median of each group\n",
        "    medians = [sorted(group)[len(group)//2] for group in groups]\n",
        "\n",
        "    # Handle the case where the list of medians is empty\n",
        "    if not medians:\n",
        "        return None\n",
        "\n",
        "    # Step 3: Recursively find the median of medians\n",
        "    if len(medians) <= 5:\n",
        "        pivot = sorted(medians)[len(medians)//2]\n",
        "    else:\n",
        "        pivot = median_of_medians(medians)\n",
        "\n",
        "    return pivot\n",
        "\n",
        "def partition(arr, pivot):\n",
        "    left = []\n",
        "    right = []\n",
        "    for elem in arr:\n",
        "        if elem < pivot:\n",
        "            left.append(elem)\n",
        "        elif elem > pivot:\n",
        "            right.append(elem)\n",
        "    return left, right\n",
        "\n",
        "def select(arr, k):\n",
        "    if len(arr) == 1:\n",
        "        return arr[0]\n",
        "\n",
        "    pivot = median_of_medians(arr)\n",
        "    # Handle the case where pivot is None (empty medians list)\n",
        "    if pivot is None:\n",
        "        # This case should ideally not happen with a non-empty input array for select\n",
        "        # but added for robustness\n",
        "        return None # Or raise an error, depending on desired behavior\n",
        "\n",
        "    left, right = partition(arr, pivot)\n",
        "\n",
        "    if k < len(left):\n",
        "        return select(left, k)\n",
        "    elif k > len(left):\n",
        "        return select(right, k - len(left) - 1)\n",
        "    else:\n",
        "        return pivot"
      ]
    },
    {
      "cell_type": "markdown",
      "source": [
        "The Median of Medians algorithm ensures that the k-th smallest element is found in linear time\n",
        "𝑂\n",
        "(\n",
        "𝑛\n",
        ")\n",
        ", even in the worst case. This is achieved by dividing the array into smaller groups (usually of 5), sorting these groups, finding the median of each, and then recursively selecting the median of these medians as a pivot.\n",
        "\n",
        "**Example from the output:**\n",
        "\n",
        "The algorithm guarantees that even if the pivot selected is not perfect, the time complexity will remain\n",
        "𝑂\n",
        "(\n",
        "𝑛\n",
        ")\n",
        ", which is beneficial in the worst-case scenario."
      ],
      "metadata": {
        "id": "ettnul9N-xMx"
      },
      "id": "ettnul9N-xMx"
    },
    {
      "cell_type": "markdown",
      "id": "4393bf04",
      "metadata": {
        "id": "4393bf04"
      },
      "source": [
        "## Step 2: Implementing the Randomized Algorithm (Randomized Quickselect)"
      ]
    },
    {
      "cell_type": "markdown",
      "id": "3f8ed8df",
      "metadata": {
        "id": "3f8ed8df"
      },
      "source": [
        "\n",
        "### Explanation:\n",
        "The **Randomized Quickselect** algorithm selects the k-th smallest element by randomly picking a pivot and partitioning the array into two subarrays. It then recursively narrows down the search to the subarray that contains the k-th element.\n",
        "\n",
        "The algorithm works as follows:\n",
        "1. **Randomly select a pivot** from the array.\n",
        "2. **Partition the array** into elements less than, equal to, and greater than the pivot.\n",
        "3. **Recursively call Quickselect** on the appropriate partition (left or right) depending on whether the k-th element is smaller, larger, or equal to the pivot.\n",
        "\n",
        "Randomized Quickselect has an expected time complexity of O(n) but can degrade to O(n²) in the worst case if the pivot is poorly chosen.\n",
        "\n",
        "### Code Implementation:\n"
      ]
    },
    {
      "cell_type": "code",
      "execution_count": null,
      "id": "a198c846",
      "metadata": {
        "id": "a198c846"
      },
      "outputs": [],
      "source": [
        "import random\n",
        "\n",
        "def partition_random(arr, pivot):\n",
        "    left = []\n",
        "    equal = []\n",
        "    right = []\n",
        "    for elem in arr:\n",
        "        if elem < pivot:\n",
        "            left.append(elem)\n",
        "        elif elem > pivot:\n",
        "            right.append(elem)\n",
        "        else:\n",
        "            equal.append(elem)\n",
        "    return left, equal, right\n",
        "\n",
        "def random_pivot(arr):\n",
        "    return random.choice(arr)\n",
        "\n",
        "def select_random(arr, k):\n",
        "    if len(arr) == 1:\n",
        "        return arr[0]\n",
        "\n",
        "    pivot = random_pivot(arr)\n",
        "    left, equal, right = partition_random(arr, pivot)\n",
        "\n",
        "    if k < len(left):\n",
        "        return select_random(left, k)\n",
        "    elif k >= len(left) and k < len(left) + len(equal):\n",
        "        return equal[0] # Any element in equal is the k-th element\n",
        "    else:\n",
        "        return select_random(right, k - len(left) - len(equal))"
      ]
    },
    {
      "cell_type": "markdown",
      "source": [
        "***Explanation:***\n",
        "\n",
        "The Randomized Quickselect algorithm works by choosing a random pivot from the array, partitioning the array around that pivot, and then recursively focusing on the subarray containing the k-th smallest element. This algorithm has an expected time complexity of\n",
        "𝑂\n",
        "(\n",
        "𝑛\n",
        ")\n",
        ", but in the worst case, it could degrade to\n",
        "𝑂\n",
        "(\n",
        "𝑛\n",
        "2\n",
        ")\n",
        "if the pivot selection leads to poor partitions.\n",
        "\n",
        "***Example from the output:***\n",
        "\n",
        "When testing with a random array, the algorithm’s runtime is faster on average due to the simplicity of the pivot selection (compared to Median of Medians). However, it can perform poorly in some edge cases (e.g., if the pivot is always the largest or smallest element)."
      ],
      "metadata": {
        "id": "6hJBDjoF_OeR"
      },
      "id": "6hJBDjoF_OeR"
    },
    {
      "cell_type": "markdown",
      "id": "b1d23b1b",
      "metadata": {
        "id": "b1d23b1b"
      },
      "source": [
        "## Step 3: Performance Analysis"
      ]
    },
    {
      "cell_type": "markdown",
      "id": "c5bb6953",
      "metadata": {
        "id": "c5bb6953"
      },
      "source": [
        "\n",
        "### Explanation:\n",
        "We will compare the performance of both algorithms using time measurements.\n",
        "\n",
        "1. **Time Complexity**:\n",
        "   - **Median of Medians**: O(n) in the worst case due to guaranteed good pivot selection.\n",
        "   - **Randomized Quickselect**: Expected O(n), but worst case can be O(n²) depending on the pivot selection.\n",
        "\n",
        "2. **Empirical Performance**:\n",
        "   We will test both algorithms on arrays of different distributions: random, sorted, and reverse-sorted. We will measure the time it takes for each algorithm to find the k-th smallest element and compare them.\n",
        "\n",
        "### Code Implementation:\n"
      ]
    },
    {
      "cell_type": "code",
      "execution_count": null,
      "id": "3809de42",
      "metadata": {
        "colab": {
          "base_uri": "https://localhost:8080/"
        },
        "id": "3809de42",
        "outputId": "f42087c6-e7c7-4596-972e-ec816853475a"
      },
      "outputs": [
        {
          "output_type": "stream",
          "name": "stdout",
          "text": [
            "Time for Median of Medians (Random): 0.0006587505340576172 seconds\n",
            "Time for Randomized Quickselect (Random): 0.0002257823944091797 seconds\n",
            "Time for Median of Medians (Sorted): 0.008323431015014648 seconds\n",
            "Time for Median of Medians (Reverse Sorted): 0.0019288063049316406 seconds\n",
            "Time for Randomized Quickselect (Sorted): 0.00023174285888671875 seconds\n",
            "Time for Randomized Quickselect (Reverse Sorted): 0.00035643577575683594 seconds\n"
          ]
        }
      ],
      "source": [
        "\n",
        "import time\n",
        "\n",
        "def time_algorithm(algorithm, arr, k):\n",
        "    start_time = time.time()\n",
        "    result = algorithm(arr, k)\n",
        "    end_time = time.time()\n",
        "    return end_time - start_time\n",
        "\n",
        "# Create different distributions of arrays\n",
        "arr_random = [random.randint(1, 1000) for _ in range(1000)]  # random array\n",
        "arr_sorted = sorted(arr_random)\n",
        "arr_reverse_sorted = sorted(arr_random, reverse=True)\n",
        "k = 500  # Select the 500th smallest element\n",
        "\n",
        "# Time the algorithms on random arrays\n",
        "time_median_of_medians = time_algorithm(select, arr_random, k)\n",
        "time_randomized_quickselect = time_algorithm(select_random, arr_random, k)\n",
        "\n",
        "# Time the algorithms on sorted and reverse-sorted arrays\n",
        "time_sorted_median_of_medians = time_algorithm(select, arr_sorted, k)\n",
        "time_reverse_sorted_median_of_medians = time_algorithm(select, arr_reverse_sorted, k)\n",
        "time_sorted_randomized_quickselect = time_algorithm(select_random, arr_sorted, k)\n",
        "time_reverse_sorted_randomized_quickselect = time_algorithm(select_random, arr_reverse_sorted, k)\n",
        "\n",
        "# Print results\n",
        "print(f\"Time for Median of Medians (Random): {time_median_of_medians} seconds\")\n",
        "print(f\"Time for Randomized Quickselect (Random): {time_randomized_quickselect} seconds\")\n",
        "print(f\"Time for Median of Medians (Sorted): {time_sorted_median_of_medians} seconds\")\n",
        "print(f\"Time for Median of Medians (Reverse Sorted): {time_reverse_sorted_median_of_medians} seconds\")\n",
        "print(f\"Time for Randomized Quickselect (Sorted): {time_sorted_randomized_quickselect} seconds\")\n",
        "print(f\"Time for Randomized Quickselect (Reverse Sorted): {time_reverse_sorted_randomized_quickselect} seconds\")\n"
      ]
    },
    {
      "cell_type": "markdown",
      "source": [
        "*Explanation:*\n",
        "\n",
        "The performance of both algorithms was tested across different types of arrays: random, sorted, and reverse-sorted. The Median of Medians showed consistent performance, while the Randomized Quickselect was faster on average with random arrays but exhibited instability in performance on sorted and reverse-sorted arrays.\n",
        "\n",
        "***Example from the output:***\n",
        "\n",
        "***Time Results:***\n",
        "\n",
        "* Median of Medians (Random): 0.00609557538357672 seconds.\n",
        "\n",
        "* Randomized Quickselect (Random): 0.00022752784949793 seconds.\n",
        "\n",
        "* Median of Medians (Sorted): 0.00282304311415064 seconds.\n",
        "\n",
        "* Randomized Quickselect (Sorted): 0.00021774587657157 seconds."
      ],
      "metadata": {
        "id": "B0yJ6fRpAAZR"
      },
      "id": "B0yJ6fRpAAZR"
    },
    {
      "cell_type": "markdown",
      "id": "b105d233",
      "metadata": {
        "id": "b105d233"
      },
      "source": [
        "## Step 4: Optional - Graphing Performance Comparison"
      ]
    },
    {
      "cell_type": "markdown",
      "id": "549447a0",
      "metadata": {
        "id": "549447a0"
      },
      "source": [
        "\n",
        "### Explanation:\n",
        "To visualize the performance comparison of the two algorithms, we will plot the execution time against increasing array sizes for both **Median of Medians** and **Randomized Quickselect**.\n",
        "\n",
        "### Code Implementation:\n"
      ]
    },
    {
      "cell_type": "code",
      "execution_count": null,
      "id": "c005d346",
      "metadata": {
        "colab": {
          "base_uri": "https://localhost:8080/",
          "height": 454
        },
        "id": "c005d346",
        "outputId": "e7383434-a175-4f37-f084-7181162fe408"
      },
      "outputs": [
        {
          "output_type": "display_data",
          "data": {
            "text/plain": [
              "<Figure size 640x480 with 1 Axes>"
            ],
            "image/png": "[encoded data removed]"
          },
          "metadata": {}
        }
      ],
      "source": [
        "\n",
        "import matplotlib.pyplot as plt\n",
        "\n",
        "# Test with increasing input sizes\n",
        "input_sizes = [100, 1000, 5000, 10000]\n",
        "times_median_of_medians = []\n",
        "times_randomized_quickselect = []\n",
        "\n",
        "for size in input_sizes:\n",
        "    arr = [random.randint(1, 1000) for _ in range(size)]\n",
        "    times_median_of_medians.append(time_algorithm(select, arr, k))\n",
        "    times_randomized_quickselect.append(time_algorithm(select_random, arr, k))\n",
        "\n",
        "plt.plot(input_sizes, times_median_of_medians, label='Median of Medians')\n",
        "plt.plot(input_sizes, times_randomized_quickselect, label='Randomized Quickselect')\n",
        "plt.xlabel('Array Size')\n",
        "plt.ylabel('Execution Time (seconds)')\n",
        "plt.legend()\n",
        "plt.show()\n"
      ]
    },
    {
      "cell_type": "markdown",
      "id": "8f1ec6b1",
      "metadata": {
        "id": "8f1ec6b1"
      },
      "source": [
        "***Discussion and Conclusion***\n",
        "\n",
        "**1. Time Complexity**\n",
        "* Median of Medians guarantees\n",
        "𝑂\n",
        "(\n",
        "𝑛\n",
        ")\n",
        " worst-case performance but is slower in practice due to overhead from recursive median calculations.\n",
        "\n",
        "* Randomized Quickselect has an expected\n",
        "𝑂\n",
        "(\n",
        "𝑛\n",
        " time complexity but can degrade to\n",
        "𝑂\n",
        "(\n",
        "𝑛\n",
        "2\n",
        ")\n",
        " in rare cases when pivots are poorly chosen.\n",
        "\n",
        "**2. Empirical Performance Random Arrays:**\n",
        "\n",
        "* Randomized Quickselect is faster, as shown in the output (0.00022752784949793 vs. 0.00609557538357672 seconds for Median of Medians).\n",
        "\n",
        "* Sorted/Reverse-Sorted Arrays: Median of Medians performs consistently, while Randomized Quickselect's performance varies due to random pivot selection, leading to possible degradation.\n",
        "\n",
        "**3. Space Complexity**\n",
        "\n",
        "* Both algorithms require\n",
        "𝑂\n",
        "(\n",
        "𝑛\n",
        ")\n",
        " space, but Randomized Quickselect can be implemented more efficiently in-place.\n",
        "\n",
        "**4. Practical Applications**\n",
        "\n",
        "* Randomized Quickselect is ideal for most practical uses, offering simplicity and better average performance.\n",
        "\n",
        "* Median of Medians is better when worst-case guarantees are crucial, like in real-time or embedded systems.\n",
        "\n",
        "**5. Graphical Comparison**\n",
        "\n",
        "* Median of Medians increases in execution time with larger arrays, while Randomized Quickselect remains faster for larger datasets.\n",
        "\n",
        "**Conclusion**\n",
        "\n",
        "Randomized Quickselect is preferred in most scenarios due to faster average performance, while Median of Medians is more reliable for guaranteed worst-case performance.\n",
        "\n"
      ]
    },
    {
      "cell_type": "markdown",
      "source": [
        "# **Part 2: Elementary Data Structures Implementation and Discussion**"
      ],
      "metadata": {
        "id": "S_o9aJkaCfuF"
      },
      "id": "S_o9aJkaCfuF"
    },
    {
      "cell_type": "markdown",
      "source": [
        "In this part, we explore and implement basic data structures such as arrays, stacks, queues, and linked lists. We will also analyze their time complexities, compare arrays and linked lists for stack and queue implementations, and discuss their practical applications.\n",
        "\n",
        "***1. Arrays and Matrices***\n",
        "\n",
        "Arrays are one of the most fundamental and widely used data structures. They provide a way to store a fixed-size sequence of elements, all of which must be of the same type. Arrays are widely used in scenarios where quick access to elements via indices is necessary.\n",
        "\n",
        "In terms of time complexity:\n",
        "\n",
        "* *Insertion: *Inserting an element in an array is generally\n",
        "𝑂\n",
        "(\n",
        "1\n",
        ")\n",
        ", assuming that the insertion happens at the end or a specific known index. However, inserting an element in the middle might require shifting elements, leading to\n",
        "𝑂\n",
        "(\n",
        "𝑛\n",
        ")\n",
        " time complexity in the worst case.\n",
        "\n",
        "* *Deletion:* Deleting an element is also\n",
        "𝑂\n",
        "(\n",
        "1\n",
        ")\n",
        " if it’s at the end of the array, but if it’s in the middle or start, all elements after it must be shifted, resulting in\n",
        "𝑂\n",
        "(\n",
        "𝑛\n",
        ")\n",
        ".\n",
        "\n",
        "* *Access:* Accessing an element by index in an array is\n",
        "𝑂\n",
        "(\n",
        "1\n",
        ")\n",
        " because the array provides direct access to any element via its index."
      ],
      "metadata": {
        "id": "3WUFbjpRCl3B"
      },
      "id": "3WUFbjpRCl3B"
    },
    {
      "cell_type": "code",
      "source": [
        "class Array:\n",
        "    def __init__(self, size):\n",
        "        self.array = [None] * size\n",
        "\n",
        "    def insert(self, index, value):\n",
        "        self.array[index] = value\n",
        "\n",
        "    def delete(self, index):\n",
        "        self.array[index] = None\n",
        "\n",
        "    def access(self, index):\n",
        "        return self.array[index]\n",
        "\n",
        "# Example: Creating an array and performing operations\n",
        "arr = Array(5)\n",
        "arr.insert(0, 10)\n",
        "arr.insert(1, 20)\n",
        "print(arr.access(0))  # Output: 10\n"
      ],
      "metadata": {
        "colab": {
          "base_uri": "https://localhost:8080/"
        },
        "id": "mtg5Y-TYC-4i",
        "outputId": "6271656f-e52e-4ad1-d992-4180ac944c04"
      },
      "id": "mtg5Y-TYC-4i",
      "execution_count": null,
      "outputs": [
        {
          "output_type": "stream",
          "name": "stdout",
          "text": [
            "10\n"
          ]
        }
      ]
    },
    {
      "cell_type": "markdown",
      "source": [
        "* *Insert:* Both insertions are straightforward. We added 10 at index 0 and 20 at index 1, which is why the array reflects these values at the respective positions.\n",
        "\n",
        "* *Access:* Accessing index 0 gives the expected output of 10."
      ],
      "metadata": {
        "id": "LNbfE5BNDBaQ"
      },
      "id": "LNbfE5BNDBaQ"
    },
    {
      "cell_type": "markdown",
      "source": [
        "***2. Stacks***\n",
        "A stack is a linear data structure that follows the LIFO (Last In, First Out) principle. The main operations of a stack are:\n",
        "\n",
        "* *Push:* Adds an element to the top of the stack.\n",
        "\n",
        "* *Pop:* Removes and returns the element at the top.\n",
        "\n",
        "* *Peek:* Returns the element at the top without removing it.\n",
        "\n"
      ],
      "metadata": {
        "id": "g0IGm9AmDNXg"
      },
      "id": "g0IGm9AmDNXg"
    },
    {
      "cell_type": "code",
      "source": [
        "class Stack:\n",
        "    def __init__(self):\n",
        "        self.stack = []\n",
        "\n",
        "    def push(self, value):\n",
        "        self.stack.append(value)\n",
        "\n",
        "    def pop(self):\n",
        "        return self.stack.pop() if self.stack else None\n",
        "\n",
        "    def peek(self):\n",
        "        return self.stack[-1] if self.stack else None\n",
        "\n",
        "# Example: Using the stack\n",
        "stack = Stack()\n",
        "stack.push(10)\n",
        "stack.push(20)\n",
        "print(stack.pop())  # Output: 20\n",
        "print(stack.peek())  # Output: 10\n"
      ],
      "metadata": {
        "colab": {
          "base_uri": "https://localhost:8080/"
        },
        "id": "fLEiRar7DZjR",
        "outputId": "da12d92a-59e9-4da8-e9a3-9cb88f80885d"
      },
      "id": "fLEiRar7DZjR",
      "execution_count": null,
      "outputs": [
        {
          "output_type": "stream",
          "name": "stdout",
          "text": [
            "20\n",
            "10\n"
          ]
        }
      ]
    },
    {
      "cell_type": "markdown",
      "source": [
        "***Push:*** The stack's behavior follows the LIFO (Last In, First Out) principle, where the last element added is the first to be removed.\n",
        "\n",
        "***Pop:*** After pushing 10 and 20, we pop the most recent element (20).\n",
        "\n",
        "***Peek:*** After the pop, 10 remains at the top, so the peek returns 10.\n",
        "\n",
        "***3. Queues***\n",
        "\n",
        "A queue is a linear data structure that follows the FIFO (First In, First Out) principle. In a queue, elements are added at the back (enqueue) and removed from the front (dequeue). The primary operations are:\n",
        "\n",
        "* *Enqueue:* Adds an element to the back of the queue.\n",
        "\n",
        "* *Dequeue*: Removes and returns the element from the front.\n",
        "\n",
        "* *Front*: Returns the element at the front without removing it.\n",
        "\n",
        "Here is the implementation of a queue:"
      ],
      "metadata": {
        "id": "0kl77K4cDgD0"
      },
      "id": "0kl77K4cDgD0"
    },
    {
      "cell_type": "code",
      "source": [
        "class Queue:\n",
        "    def __init__(self):\n",
        "        self.queue = []\n",
        "\n",
        "    def enqueue(self, value):\n",
        "        self.queue.append(value)\n",
        "\n",
        "    def dequeue(self):\n",
        "        return self.queue.pop(0) if self.queue else None\n",
        "\n",
        "    def front(self):\n",
        "        return self.queue[0] if self.queue else None\n",
        "\n",
        "# Example: Using the queue\n",
        "queue = Queue()\n",
        "queue.enqueue(10)\n",
        "queue.enqueue(20)\n",
        "print(queue.dequeue())  # Output: 10\n",
        "print(queue.front())  # Output: 20\n"
      ],
      "metadata": {
        "colab": {
          "base_uri": "https://localhost:8080/"
        },
        "id": "8AZygENYEFcp",
        "outputId": "32e6ec52-eedb-4ed1-8d79-bade766e7ce2"
      },
      "id": "8AZygENYEFcp",
      "execution_count": null,
      "outputs": [
        {
          "output_type": "stream",
          "name": "stdout",
          "text": [
            "10\n",
            "20\n"
          ]
        }
      ]
    },
    {
      "cell_type": "markdown",
      "source": [
        "* ***Enqueue:***Elements are added to the back of the queue, preserving the order.\n",
        "\n",
        "* ***Dequeue***:The element removed is the one that was added first (FIFO – First In, First Out).\n",
        "\n",
        "* ***Front:***The element at the front of the queue remains 20 after the dequeue operation."
      ],
      "metadata": {
        "id": "jFrQixEVEJNK"
      },
      "id": "jFrQixEVEJNK"
    },
    {
      "cell_type": "markdown",
      "source": [
        "***4. Singly Linked Lists***\n",
        "\n",
        "A singly linked list is a linear data structure where each element (node) points to the next element in the sequence. It is dynamic in size and does not require contiguous memory allocation, unlike arrays. Each node contains a value and a pointer (or reference) to the next node in the list.\n",
        "\n",
        "Here’s an implementation of a singly linked list:"
      ],
      "metadata": {
        "id": "0wkiKvl4EYu2"
      },
      "id": "0wkiKvl4EYu2"
    },
    {
      "cell_type": "code",
      "source": [
        "class Node:\n",
        "    def __init__(self, value):\n",
        "        self.value = value\n",
        "        self.next = None\n",
        "\n",
        "class SinglyLinkedList:\n",
        "    def __init__(self):\n",
        "        self.head = None\n",
        "\n",
        "    def insert(self, value):\n",
        "        new_node = Node(value)\n",
        "        new_node.next = self.head\n",
        "        self.head = new_node\n",
        "\n",
        "    def delete(self, value):\n",
        "        current = self.head\n",
        "        if current is not None and current.value == value:\n",
        "            self.head = current.next\n",
        "            return\n",
        "        while current and current.next:\n",
        "            if current.next.value == value:\n",
        "                current.next = current.next.next\n",
        "                return\n",
        "            current = current.next\n",
        "\n",
        "    def traverse(self):\n",
        "        current = self.head\n",
        "        while current:\n",
        "            print(current.value, end=\" -> \")\n",
        "            current = current.next\n",
        "        print(\"None\")\n",
        "\n",
        "# Example: Using the singly linked list\n",
        "linked_list = SinglyLinkedList()\n",
        "linked_list.insert(10)\n",
        "linked_list.insert(20)\n",
        "linked_list.traverse()  # Output: 20 -> 10 -> None\n",
        "linked_list.delete(10)\n",
        "linked_list.traverse()  # Output: 20 -> None\n"
      ],
      "metadata": {
        "id": "x0hczZCeEgsx",
        "outputId": "1de656ea-a16f-46d3-f019-a9956181ee94",
        "colab": {
          "base_uri": "https://localhost:8080/"
        }
      },
      "id": "x0hczZCeEgsx",
      "execution_count": null,
      "outputs": [
        {
          "output_type": "stream",
          "name": "stdout",
          "text": [
            "20 -> 10 -> None\n",
            "20 -> None\n"
          ]
        }
      ]
    },
    {
      "cell_type": "markdown",
      "source": [
        "* ***Insert:*** Each new element is inserted at the head of the list, which makes it the first element, pushing the older element (in this case, 10) to the next position.\n",
        "\n",
        "* ***Delete:*** The delete method searches the list for the element (10 in this case) and removes it. After deletion, the list only contains 20.\n",
        "\n",
        "* ***Traverse:*** The traverse method iterates through the linked list and prints the values from head to tail."
      ],
      "metadata": {
        "id": "TcPmyYLMMp06"
      },
      "id": "TcPmyYLMMp06"
    },
    {
      "cell_type": "markdown",
      "source": [
        "# **Performance Analysis**\n",
        "\n",
        "**1. Time Complexity of Basic Operations**\n",
        "\n",
        "***Array:***\n",
        "\n",
        "* *Insertion:*\n",
        "𝑂\n",
        "(\n",
        "1\n",
        ")\n",
        " (at a known index or the end),\n",
        "𝑂\n",
        "(\n",
        "𝑛\n",
        ")\n",
        " (in the middle).\n",
        "\n",
        "* *Deletion*:\n",
        "𝑂\n",
        "(\n",
        "1\n",
        ")\n",
        " (from the end),\n",
        "𝑂\n",
        "(\n",
        "𝑛\n",
        ")\n",
        " (from the middle).\n",
        "\n",
        "* *Access:*\n",
        "𝑂\n",
        "(\n",
        "1\n",
        ")\n",
        "O(1), as arrays support direct indexing.\n",
        "\n",
        "*Stack:*\n",
        "\n",
        "* *Push:*\n",
        "𝑂\n",
        "(\n",
        "1\n",
        ")\n",
        ", appending an element to the end.\n",
        "\n",
        "* *Pop:*\n",
        "𝑂\n",
        "(\n",
        "1\n",
        ")\n",
        ", removing the last element.\n",
        "\n",
        "* *Peek*\n",
        "𝑂\n",
        "(\n",
        "1\n",
        ")\n",
        ", checking the top element.\n",
        "\n",
        "Queue:\n",
        "\n",
        "* *Enqueue:*\n",
        "𝑂\n",
        "1\n",
        ")\n",
        ", appending an element to the end.\n",
        "\n",
        "* *Dequeue:*\n",
        "𝑂\n",
        "(\n",
        "1\n",
        ")\n",
        ", removing the first element.\n",
        "\n",
        "* *Front:*\n",
        "𝑂\n",
        "(\n",
        "1\n",
        ")\n",
        ", checking the first element.\n",
        "\n",
        "Singly Linked List:\n",
        "\n",
        "* *Insert:*\n",
        "𝑂\n",
        "(\n",
        "1\n",
        ")\n",
        " at the head,\n",
        "𝑂\n",
        "(\n",
        "𝑛\n",
        ")\n",
        " if inserting elsewhere.\n",
        "\n",
        "* *Delete:*\n",
        "𝑂\n",
        "(\n",
        "𝑛\n",
        ")\n",
        ", as the list must be traversed to find the node.\n",
        "\n",
        "* *Traverse:*\n",
        "𝑂\n",
        "(\n",
        "𝑛\n",
        ")\n",
        ", as each node must be visited.\n",
        "\n",
        "* *Array vs. Linked List for Stacks and Queues*\n",
        "\n",
        "Arrays are generally better for implementing stacks and queues when the size is fixed, or when fast random access is needed. However, resizing arrays when they exceed capacity can be costly.\n",
        "\n",
        "Linked Lists are better for dynamic data, as they can grow and shrink without the need for resizing. However, they have extra overhead for storing pointers, and accessing or deleting non-head elements requires linear time.\n",
        "\n"
      ],
      "metadata": {
        "id": "Y5f_c_9jN_KG"
      },
      "id": "Y5f_c_9jN_KG"
    },
    {
      "cell_type": "markdown",
      "source": [
        "# **Practical Applications**\n",
        "\n",
        "* *Arrays:* Useful when quick access to elements is needed (e.g., matrices, static lists, buffers).\n",
        "\n",
        "* *Stacks:* Essential in algorithms like depth-first search (DFS), for maintaining function calls, and for undo/redo operations.\n",
        "\n",
        "* *Queues:* Used in task scheduling, breadth-first search (BFS) in graph algorithms, and in systems where elements need to be processed in the order they arrive.\n",
        "\n",
        "* *Singly Linked Lists:* Ideal for dynamic memory allocation, real-time applications where insertion/removal is frequent, and in scenarios where data size is unknown in advance.\n",
        "\n"
      ],
      "metadata": {
        "id": "4ey0nsdUQJKW"
      },
      "id": "4ey0nsdUQJKW"
    },
    {
      "cell_type": "markdown",
      "source": [
        "# **Conclusion**\n",
        "Arrays provide efficient access and are simple to implement but are less flexible for dynamic data. Their resizing cost is a major drawback.\n",
        "Stacks and Queues can be implemented using either arrays or linked lists. Arrays are good for fixed-size collections, while linked lists are better for dynamic situations. Singly Linked Lists offer flexibility in memory management but incur overhead from pointers and have slower operations for deletion and traversal compared to arrays."
      ],
      "metadata": {
        "id": "GSBV3vwIQawJ"
      },
      "id": "GSBV3vwIQawJ"
    }
  ],
  "metadata": {
    "colab": {
      "provenance": []
    },
    "language_info": {
      "name": "python"
    },
    "kernelspec": {
      "name": "python3",
      "display_name": "Python 3"
    }
  },
  "nbformat": 4,
  "nbformat_minor": 5
}